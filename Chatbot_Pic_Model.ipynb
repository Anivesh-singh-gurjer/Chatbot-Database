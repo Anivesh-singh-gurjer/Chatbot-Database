{
 "cells": [
  {
   "cell_type": "code",
   "execution_count": 1,
   "metadata": {},
   "outputs": [
    {
     "name": "stdout",
     "output_type": "stream",
     "text": [
      "Found 33522 images belonging to 16 classes.\n",
      "Found 7505 images belonging to 16 classes.\n",
      "Found 4634 images belonging to 16 classes.\n"
     ]
    },
    {
     "name": "stderr",
     "output_type": "stream",
     "text": [
      "c:\\Users\\Anivesh Patel\\anaconda3\\Lib\\site-packages\\keras\\src\\trainers\\data_adapters\\py_dataset_adapter.py:121: UserWarning: Your `PyDataset` class should call `super().__init__(**kwargs)` in its constructor. `**kwargs` can include `workers`, `use_multiprocessing`, `max_queue_size`. Do not pass these arguments to `fit()`, as they will be ignored.\n",
      "  self._warn_if_super_not_called()\n"
     ]
    },
    {
     "name": "stdout",
     "output_type": "stream",
     "text": [
      "Epoch 1/20\n",
      "\u001b[1m1048/1048\u001b[0m \u001b[32m━━━━━━━━━━━━━━━━━━━━\u001b[0m\u001b[37m\u001b[0m \u001b[1m0s\u001b[0m 1s/step - accuracy: 0.5120 - loss: 1.4077"
     ]
    },
    {
     "name": "stderr",
     "output_type": "stream",
     "text": [
      "c:\\Users\\Anivesh Patel\\anaconda3\\Lib\\site-packages\\keras\\src\\trainers\\data_adapters\\py_dataset_adapter.py:121: UserWarning: Your `PyDataset` class should call `super().__init__(**kwargs)` in its constructor. `**kwargs` can include `workers`, `use_multiprocessing`, `max_queue_size`. Do not pass these arguments to `fit()`, as they will be ignored.\n",
      "  self._warn_if_super_not_called()\n"
     ]
    },
    {
     "name": "stdout",
     "output_type": "stream",
     "text": [
      "\u001b[1m1048/1048\u001b[0m \u001b[32m━━━━━━━━━━━━━━━━━━━━\u001b[0m\u001b[37m\u001b[0m \u001b[1m1329s\u001b[0m 1s/step - accuracy: 0.5120 - loss: 1.4075 - val_accuracy: 0.6140 - val_loss: 1.0192\n",
      "Epoch 2/20\n",
      "\u001b[1m1048/1048\u001b[0m \u001b[32m━━━━━━━━━━━━━━━━━━━━\u001b[0m\u001b[37m\u001b[0m \u001b[1m1153s\u001b[0m 1s/step - accuracy: 0.6057 - loss: 1.0491 - val_accuracy: 0.6365 - val_loss: 0.9776\n",
      "Epoch 3/20\n",
      "\u001b[1m1048/1048\u001b[0m \u001b[32m━━━━━━━━━━━━━━━━━━━━\u001b[0m\u001b[37m\u001b[0m \u001b[1m1025s\u001b[0m 978ms/step - accuracy: 0.6225 - loss: 0.9961 - val_accuracy: 0.6536 - val_loss: 0.9089\n",
      "Epoch 4/20\n",
      "\u001b[1m1048/1048\u001b[0m \u001b[32m━━━━━━━━━━━━━━━━━━━━\u001b[0m\u001b[37m\u001b[0m \u001b[1m979s\u001b[0m 934ms/step - accuracy: 0.6323 - loss: 0.9602 - val_accuracy: 0.6417 - val_loss: 0.9376\n",
      "Epoch 5/20\n",
      "\u001b[1m1048/1048\u001b[0m \u001b[32m━━━━━━━━━━━━━━━━━━━━\u001b[0m\u001b[37m\u001b[0m \u001b[1m975s\u001b[0m 930ms/step - accuracy: 0.6378 - loss: 0.9493 - val_accuracy: 0.6502 - val_loss: 0.9211\n",
      "Epoch 6/20\n",
      "\u001b[1m1048/1048\u001b[0m \u001b[32m━━━━━━━━━━━━━━━━━━━━\u001b[0m\u001b[37m\u001b[0m \u001b[1m975s\u001b[0m 931ms/step - accuracy: 0.6420 - loss: 0.9337 - val_accuracy: 0.6632 - val_loss: 0.8772\n",
      "Epoch 7/20\n",
      "\u001b[1m1048/1048\u001b[0m \u001b[32m━━━━━━━━━━━━━━━━━━━━\u001b[0m\u001b[37m\u001b[0m \u001b[1m973s\u001b[0m 929ms/step - accuracy: 0.6504 - loss: 0.9129 - val_accuracy: 0.6629 - val_loss: 0.8943\n",
      "Epoch 8/20\n",
      "\u001b[1m1048/1048\u001b[0m \u001b[32m━━━━━━━━━━━━━━━━━━━━\u001b[0m\u001b[37m\u001b[0m \u001b[1m971s\u001b[0m 927ms/step - accuracy: 0.6581 - loss: 0.8963 - val_accuracy: 0.6633 - val_loss: 0.8925\n",
      "Epoch 9/20\n",
      "\u001b[1m1048/1048\u001b[0m \u001b[32m━━━━━━━━━━━━━━━━━━━━\u001b[0m\u001b[37m\u001b[0m \u001b[1m974s\u001b[0m 930ms/step - accuracy: 0.6620 - loss: 0.8811 - val_accuracy: 0.6759 - val_loss: 0.8465\n",
      "Epoch 10/20\n",
      "\u001b[1m1048/1048\u001b[0m \u001b[32m━━━━━━━━━━━━━━━━━━━━\u001b[0m\u001b[37m\u001b[0m \u001b[1m976s\u001b[0m 931ms/step - accuracy: 0.6670 - loss: 0.8731 - val_accuracy: 0.6710 - val_loss: 0.8655\n",
      "Epoch 11/20\n",
      "\u001b[1m1048/1048\u001b[0m \u001b[32m━━━━━━━━━━━━━━━━━━━━\u001b[0m\u001b[37m\u001b[0m \u001b[1m975s\u001b[0m 931ms/step - accuracy: 0.6670 - loss: 0.8700 - val_accuracy: 0.6850 - val_loss: 0.8391\n",
      "Epoch 12/20\n",
      "\u001b[1m1048/1048\u001b[0m \u001b[32m━━━━━━━━━━━━━━━━━━━━\u001b[0m\u001b[37m\u001b[0m \u001b[1m976s\u001b[0m 931ms/step - accuracy: 0.6682 - loss: 0.8707 - val_accuracy: 0.6697 - val_loss: 0.8833\n",
      "Epoch 13/20\n",
      "\u001b[1m1048/1048\u001b[0m \u001b[32m━━━━━━━━━━━━━━━━━━━━\u001b[0m\u001b[37m\u001b[0m \u001b[1m973s\u001b[0m 928ms/step - accuracy: 0.6742 - loss: 0.8456 - val_accuracy: 0.6835 - val_loss: 0.8338\n",
      "Epoch 14/20\n",
      "\u001b[1m1048/1048\u001b[0m \u001b[32m━━━━━━━━━━━━━━━━━━━━\u001b[0m\u001b[37m\u001b[0m \u001b[1m976s\u001b[0m 932ms/step - accuracy: 0.6677 - loss: 0.8577 - val_accuracy: 0.6818 - val_loss: 0.8536\n",
      "Epoch 15/20\n",
      "\u001b[1m1048/1048\u001b[0m \u001b[32m━━━━━━━━━━━━━━━━━━━━\u001b[0m\u001b[37m\u001b[0m \u001b[1m978s\u001b[0m 933ms/step - accuracy: 0.6751 - loss: 0.8394 - val_accuracy: 0.6793 - val_loss: 0.8371\n",
      "Epoch 16/20\n",
      "\u001b[1m1048/1048\u001b[0m \u001b[32m━━━━━━━━━━━━━━━━━━━━\u001b[0m\u001b[37m\u001b[0m \u001b[1m974s\u001b[0m 929ms/step - accuracy: 0.6791 - loss: 0.8335 - val_accuracy: 0.6890 - val_loss: 0.8208\n",
      "Epoch 17/20\n",
      "\u001b[1m1048/1048\u001b[0m \u001b[32m━━━━━━━━━━━━━━━━━━━━\u001b[0m\u001b[37m\u001b[0m \u001b[1m972s\u001b[0m 928ms/step - accuracy: 0.6741 - loss: 0.8392 - val_accuracy: 0.6953 - val_loss: 0.8113\n",
      "Epoch 18/20\n",
      "\u001b[1m1048/1048\u001b[0m \u001b[32m━━━━━━━━━━━━━━━━━━━━\u001b[0m\u001b[37m\u001b[0m \u001b[1m971s\u001b[0m 926ms/step - accuracy: 0.6808 - loss: 0.8371 - val_accuracy: 0.6941 - val_loss: 0.8153\n",
      "Epoch 19/20\n",
      "\u001b[1m1048/1048\u001b[0m \u001b[32m━━━━━━━━━━━━━━━━━━━━\u001b[0m\u001b[37m\u001b[0m \u001b[1m970s\u001b[0m 925ms/step - accuracy: 0.6884 - loss: 0.8134 - val_accuracy: 0.6863 - val_loss: 0.8297\n",
      "Epoch 20/20\n",
      "\u001b[1m1048/1048\u001b[0m \u001b[32m━━━━━━━━━━━━━━━━━━━━\u001b[0m\u001b[37m\u001b[0m \u001b[1m964s\u001b[0m 920ms/step - accuracy: 0.6759 - loss: 0.8292 - val_accuracy: 0.6953 - val_loss: 0.7991\n"
     ]
    },
    {
     "name": "stderr",
     "output_type": "stream",
     "text": [
      "WARNING:absl:You are saving your model as an HDF5 file via `model.save()` or `keras.saving.save_model(model)`. This file format is considered legacy. We recommend using instead the native Keras format, e.g. `model.save('my_model.keras')` or `keras.saving.save_model(model, 'my_model.keras')`. \n"
     ]
    },
    {
     "name": "stdout",
     "output_type": "stream",
     "text": [
      "\u001b[1m 11/145\u001b[0m \u001b[32m━\u001b[0m\u001b[37m━━━━━━━━━━━━━━━━━━━\u001b[0m \u001b[1m1:36\u001b[0m 720ms/step - accuracy: 0.5284 - loss: 1.1297"
     ]
    },
    {
     "name": "stderr",
     "output_type": "stream",
     "text": [
      "c:\\Users\\Anivesh Patel\\anaconda3\\Lib\\site-packages\\PIL\\Image.py:1056: UserWarning: Palette images with Transparency expressed in bytes should be converted to RGBA images\n",
      "  warnings.warn(\n"
     ]
    },
    {
     "name": "stdout",
     "output_type": "stream",
     "text": [
      "\u001b[1m145/145\u001b[0m \u001b[32m━━━━━━━━━━━━━━━━━━━━\u001b[0m\u001b[37m\u001b[0m \u001b[1m118s\u001b[0m 814ms/step - accuracy: 0.6929 - loss: 0.8024\n",
      "Test Accuracy: 69.83%\n",
      "\u001b[1m145/145\u001b[0m \u001b[32m━━━━━━━━━━━━━━━━━━━━\u001b[0m\u001b[37m\u001b[0m \u001b[1m101s\u001b[0m 684ms/step\n",
      "Class Mapping: {0: 'Acne', 1: 'Cancer', 2: 'Dermatofibroma', 3: 'Diabetic Foot Ulcers', 4: 'Eczema', 5: 'Melanocytic nevus', 6: 'Melanoma', 7: 'Milia', 8: 'Ordinary wound', 9: 'Pigment', 10: 'Rosacea', 11: 'Vascular lesion', 12: 'carcinoma', 13: 'infection', 14: 'keratosis', 15: 'non-cancer'}\n"
     ]
    }
   ],
   "source": [
    "import tensorflow as tf\n",
    "from tensorflow.keras.applications import DenseNet121\n",
    "from tensorflow.keras.layers import Dense, Flatten, Dropout, GlobalAveragePooling2D\n",
    "from tensorflow.keras.models import Model\n",
    "from tensorflow.keras.preprocessing.image import ImageDataGenerator\n",
    "import os\n",
    "\n",
    "# Paths to your dataset\n",
    "train_dir = 'Pictures/Train'\n",
    "val_dir = 'Pictures/Val'\n",
    "test_dir = 'Pictures/Test'\n",
    "\n",
    "# Parameters\n",
    "IMG_SIZE = (224, 224)  # Image dimensions\n",
    "BATCH_SIZE = 32        # Batch size\n",
    "EPOCHS = 20            # Number of epochs\n",
    "NUM_CLASSES = len(os.listdir(train_dir))  # Count classes dynamically\n",
    "\n",
    "# Data Generators\n",
    "train_datagen = ImageDataGenerator(\n",
    "    rescale=1.0 / 255,  # Normalize pixel values\n",
    "    rotation_range=20,\n",
    "    width_shift_range=0.2,\n",
    "    height_shift_range=0.2,\n",
    "    zoom_range=0.2,\n",
    "    horizontal_flip=True,\n",
    "    fill_mode='nearest'\n",
    ")\n",
    "\n",
    "val_datagen = ImageDataGenerator(rescale=1.0 / 255)\n",
    "test_datagen = ImageDataGenerator(rescale=1.0 / 255)\n",
    "\n",
    "# Load datasets\n",
    "train_generator = train_datagen.flow_from_directory(\n",
    "    train_dir,\n",
    "    target_size=IMG_SIZE,\n",
    "    batch_size=BATCH_SIZE,\n",
    "    class_mode='categorical'\n",
    ")\n",
    "\n",
    "val_generator = val_datagen.flow_from_directory(\n",
    "    val_dir,\n",
    "    target_size=IMG_SIZE,\n",
    "    batch_size=BATCH_SIZE,\n",
    "    class_mode='categorical'\n",
    ")\n",
    "\n",
    "test_generator = test_datagen.flow_from_directory(\n",
    "    test_dir,\n",
    "    target_size=IMG_SIZE,\n",
    "    batch_size=BATCH_SIZE,\n",
    "    class_mode='categorical',\n",
    "    shuffle=False  # Important for evaluation\n",
    ")\n",
    "\n",
    "# Load DenseNet121\n",
    "base_model = DenseNet121(weights='imagenet', include_top=False, input_shape=(224, 224, 3))\n",
    "\n",
    "# Freeze base model layers\n",
    "for layer in base_model.layers:\n",
    "    layer.trainable = False\n",
    "\n",
    "# Add custom layers\n",
    "x = base_model.output\n",
    "x = GlobalAveragePooling2D()(x)  # Better for DenseNet\n",
    "x = Dense(512, activation='relu')(x)\n",
    "x = Dropout(0.5)(x)\n",
    "output = Dense(NUM_CLASSES, activation='softmax')(x)\n",
    "\n",
    "# Create the model\n",
    "model = Model(inputs=base_model.input, outputs=output)\n",
    "\n",
    "# Compile the model\n",
    "model.compile(\n",
    "    optimizer=tf.keras.optimizers.Adam(learning_rate=0.001),\n",
    "    loss='categorical_crossentropy',\n",
    "    metrics=['accuracy']\n",
    ")\n",
    "\n",
    "# Train the model\n",
    "history = model.fit(\n",
    "    train_generator,\n",
    "    epochs=EPOCHS,\n",
    "    validation_data=val_generator,\n",
    "    verbose=1\n",
    ")\n",
    "\n",
    "# Save the model\n",
    "model.save('P_densenet121_medical_model_2.h5')\n",
    "\n",
    "# Evaluate the model on the test set\n",
    "loss, accuracy = model.evaluate(test_generator)\n",
    "print(f\"Test Accuracy: {accuracy * 100:.2f}%\")\n",
    "\n",
    "# Predict on test data (optional, for detailed evaluation)\n",
    "predictions = model.predict(test_generator)\n",
    "predicted_classes = tf.argmax(predictions, axis=1)\n",
    "true_classes = test_generator.classes\n",
    "\n",
    "# Print class mapping\n",
    "class_indices = train_generator.class_indices\n",
    "class_mapping = {v: k for k, v in class_indices.items()}\n",
    "print(\"Class Mapping:\", class_mapping)\n"
   ]
  }
 ],
 "metadata": {
  "kernelspec": {
   "display_name": "base",
   "language": "python",
   "name": "python3"
  },
  "language_info": {
   "codemirror_mode": {
    "name": "ipython",
    "version": 3
   },
   "file_extension": ".py",
   "mimetype": "text/x-python",
   "name": "python",
   "nbconvert_exporter": "python",
   "pygments_lexer": "ipython3",
   "version": "3.12.7"
  }
 },
 "nbformat": 4,
 "nbformat_minor": 2
}
